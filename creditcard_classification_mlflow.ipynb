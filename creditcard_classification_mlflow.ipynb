{
 "cells": [
  {
   "cell_type": "code",
   "id": "initial_id",
   "metadata": {
    "collapsed": true,
    "ExecuteTime": {
     "end_time": "2025-01-27T00:47:44.628108Z",
     "start_time": "2025-01-27T00:47:38.412428Z"
    }
   },
   "source": [
    "import os\n",
    "\n",
    "import uuid\n",
    "\n",
    "import pandas as pd\n",
    "import numpy as np\n",
    "from pandas.core.common import random_state\n",
    "\n",
    "from sklearn.model_selection import train_test_split, GridSearchCV\n",
    "from sklearn.preprocessing import MinMaxScaler\n",
    "from sklearn.ensemble import RandomForestClassifier\n",
    "from sklearn.svm import SVC\n",
    "from sklearn.linear_model import LogisticRegression\n",
    "from sklearn.metrics import r2_score, confusion_matrix, ConfusionMatrixDisplay, accuracy_score, recall_score\n",
    "\n",
    "import matplotlib.pyplot as plt\n",
    "\n",
    "import mlflow\n",
    "from mlflow import MlflowClient\n",
    "from mlflow.exceptions import MlflowException\n",
    "\n",
    "%matplotlib inline"
   ],
   "outputs": [],
   "execution_count": 1
  },
  {
   "metadata": {
    "ExecuteTime": {
     "end_time": "2025-01-26T23:24:16.694120Z",
     "start_time": "2025-01-26T23:24:16.684069Z"
    }
   },
   "cell_type": "code",
   "source": [
    "client = MlflowClient()\n",
    "experiment_name = \"Creditcard_fraud_detection\"\n",
    "mlflow.autolog(disable=True)"
   ],
   "id": "bab8990fcddcb72",
   "outputs": [],
   "execution_count": 156
  },
  {
   "metadata": {
    "ExecuteTime": {
     "end_time": "2025-01-26T23:24:16.758176Z",
     "start_time": "2025-01-26T23:24:16.743535Z"
    }
   },
   "cell_type": "code",
   "source": [
    "# Handling experiment creation\n",
    "try:\n",
    "    experiment_id = client.create_experiment(experiment_name)\n",
    "    print(f\"Experiment created with ID: {experiment_id}\")\n",
    "except MlflowException as e:\n",
    "    if 'already exists' in str(e):\n",
    "        experiment_id = client.get_experiment_by_name(experiment_name).experiment_id\n",
    "        print(f\"Experiment already exists. Using existing experiment with ID: {experiment_id}\")\n",
    "    else:\n",
    "        print(f\"An error occurred: {e}\")\n",
    "        raise"
   ],
   "id": "77b96373674e0a02",
   "outputs": [
    {
     "name": "stdout",
     "output_type": "stream",
     "text": [
      "Experiment already exists. Using existing experiment with ID: 693275486830425532\n"
     ]
    }
   ],
   "execution_count": 157
  },
  {
   "metadata": {
    "ExecuteTime": {
     "end_time": "2025-01-26T23:24:16.854440Z",
     "start_time": "2025-01-26T23:24:16.843197Z"
    }
   },
   "cell_type": "code",
   "source": "fraud_experiment = mlflow.set_experiment(experiment_name)",
   "id": "9737a73f3239c61d",
   "outputs": [],
   "execution_count": 158
  },
  {
   "metadata": {
    "ExecuteTime": {
     "end_time": "2025-01-26T23:24:16.905203Z",
     "start_time": "2025-01-26T23:24:16.897994Z"
    }
   },
   "cell_type": "code",
   "source": [
    "def generate_run_name(base_name):\n",
    "    random_string = uuid.uuid4().hex[:8]\n",
    "    return f\"{base_name}_{random_string}\""
   ],
   "id": "eea184f42f8ed2ae",
   "outputs": [],
   "execution_count": 159
  },
  {
   "metadata": {
    "ExecuteTime": {
     "end_time": "2025-01-26T23:24:16.948132Z",
     "start_time": "2025-01-26T23:24:16.943241Z"
    }
   },
   "cell_type": "code",
   "source": [
    "def load_dataset(path='data/creditcard_2023.csv', n=1000):\n",
    "    return pd.read_csv(path, index_col=0).sample(n)"
   ],
   "id": "218e23768b597420",
   "outputs": [],
   "execution_count": 160
  },
  {
   "metadata": {
    "ExecuteTime": {
     "end_time": "2025-01-26T23:24:20.749715Z",
     "start_time": "2025-01-26T23:24:16.983292Z"
    }
   },
   "cell_type": "code",
   "source": [
    "df = load_dataset(n=50000)\n",
    "\n",
    "# Classification target: 'Class'\n",
    "y = df[['Class']]\n",
    "X = df.drop(columns=['Class'], axis=1)"
   ],
   "id": "abe7ed098c9bc3cf",
   "outputs": [],
   "execution_count": 161
  },
  {
   "metadata": {
    "ExecuteTime": {
     "end_time": "2025-01-26T23:24:20.800589Z",
     "start_time": "2025-01-26T23:24:20.783416Z"
    }
   },
   "cell_type": "code",
   "source": [
    "x_train, x_test, y_train, y_test = train_test_split(\n",
    "    X,\n",
    "    y,\n",
    "    test_size=0.2,\n",
    "    random_state=42\n",
    ")"
   ],
   "id": "15a0bf688c392993",
   "outputs": [],
   "execution_count": 162
  },
  {
   "metadata": {
    "ExecuteTime": {
     "end_time": "2025-01-26T23:24:20.846825Z",
     "start_time": "2025-01-26T23:24:20.834954Z"
    }
   },
   "cell_type": "code",
   "source": [
    "scaler = MinMaxScaler()\n",
    "x_train[['Amount']] = scaler.fit_transform(x_train[['Amount']])\n",
    "x_test[['Amount']] = scaler.fit_transform(x_test[['Amount']])"
   ],
   "id": "a22ef0a3497d531f",
   "outputs": [],
   "execution_count": 163
  },
  {
   "metadata": {
    "ExecuteTime": {
     "end_time": "2025-01-26T23:24:20.883717Z",
     "start_time": "2025-01-26T23:24:20.878019Z"
    }
   },
   "cell_type": "code",
   "source": "y_train, y_test = np.ravel(y_train), np.ravel(y_test)",
   "id": "1d9b3438fefbb2c0",
   "outputs": [],
   "execution_count": 164
  },
  {
   "metadata": {},
   "cell_type": "markdown",
   "source": "### Random forest algorithm",
   "id": "9b0051e0a6ac09f9"
  },
  {
   "metadata": {
    "ExecuteTime": {
     "end_time": "2025-01-26T23:24:45.156578Z",
     "start_time": "2025-01-26T23:24:20.916991Z"
    }
   },
   "cell_type": "code",
   "source": [
    "# Random forest\n",
    "with mlflow.start_run(run_name=generate_run_name('random_forest')) as run:\n",
    "\n",
    "    rf_params = {\n",
    "        'random_state': 42\n",
    "    }\n",
    "\n",
    "    rf = RandomForestClassifier(**rf_params)\n",
    "    rf.fit(x_train, y_train)\n",
    "\n",
    "    # Predict\n",
    "    y_pred_rf = rf.predict(x_test)\n",
    "\n",
    "    rf_acc = accuracy_score(y_test, y_pred_rf)\n",
    "    print(f'\\n\\nAccuracy score: {rf_acc}')\n",
    "\n",
    "    recall_rf = recall_score(y_test, y_pred_rf)\n",
    "    print(f'Recall score: {recall_rf}')\n",
    "\n",
    "    rf_r2 = r2_score(y_test, y_pred_rf)\n",
    "    print(f'R2 score: {rf_r2}')\n",
    "\n",
    "    rf_cm = confusion_matrix(y_test, y_pred_rf)\n",
    "    print(f'Confusion matrix:\\n{rf_cm}')\n",
    "\n",
    "    # Assemble the metrics we're going to write into a collection\n",
    "    rf_metrics = {'accuracy': rf_acc, 'recall': recall_rf, 'r2': rf_r2}\n",
    "\n",
    "    mlflow.log_params(rf_params)\n",
    "    mlflow.log_metrics(rf_metrics)\n",
    "\n",
    "    mlflow.sklearn.log_model(\n",
    "        sk_model=rf, input_example=x_test.head(10), artifact_path='artifacts'\n",
    "    )\n",
    "\n",
    "    disp = ConfusionMatrixDisplay(confusion_matrix=rf_cm)\n",
    "    disp.plot(cmap=\"Blues\", colorbar=False)\n",
    "\n",
    "    # Save the plot as an image file\n",
    "    cm_image_path = \"rf_confusion_matrix.png\"\n",
    "    plt.savefig(cm_image_path)\n",
    "    plt.show()\n",
    "\n",
    "    # Log the image file to MLflow\n",
    "    mlflow.log_artifact(cm_image_path)\n",
    "\n",
    "    # Clean up local image file if needed\n",
    "    os.remove(cm_image_path)\n"
   ],
   "id": "750b4b99f539977e",
   "outputs": [
    {
     "name": "stdout",
     "output_type": "stream",
     "text": [
      "\n",
      "\n",
      "Accuracy score: 0.9978\n",
      "Recall score: 0.9961816720257235\n",
      "R2 score: 0.9911997972433285\n",
      "Confusion matrix:\n",
      "[[5021    3]\n",
      " [  19 4957]]\n"
     ]
    },
    {
     "name": "stderr",
     "output_type": "stream",
     "text": [
      "C:\\Users\\andre\\PycharmProjects\\mlflow\\.venv\\Lib\\site-packages\\mlflow\\types\\utils.py:452: UserWarning: Hint: Inferred schema contains integer column(s). Integer columns in Python cannot represent missing values. If your input data contains missing values at inference time, it will be encoded as floats and will cause a schema enforcement error. The best way to avoid this problem is to infer the model schema based on a realistic data sample (training dataset) that includes missing values. Alternatively, you can declare integer columns as doubles (float64) whenever these columns may have missing values. See `Handling Integers With Missing Values <https://www.mlflow.org/docs/latest/models.html#handling-integers-with-missing-values>`_ for more details.\n",
      "  warnings.warn(\n"
     ]
    },
    {
     "data": {
      "text/plain": [
       "<Figure size 640x480 with 1 Axes>"
      ],
      "image/png": "[encoded data removed]"
     },
     "metadata": {},
     "output_type": "display_data"
    }
   ],
   "execution_count": 165
  },
  {
   "metadata": {},
   "cell_type": "markdown",
   "source": "### Support Vectors algorithm",
   "id": "79abcde42b58f7bb"
  },
  {
   "metadata": {
    "ExecuteTime": {
     "end_time": "2025-01-26T23:25:00.114293Z",
     "start_time": "2025-01-26T23:24:45.193411Z"
    }
   },
   "cell_type": "code",
   "source": [
    "# Support Vectors\n",
    "with mlflow.start_run(run_name=generate_run_name('support_vectors')) as run:\n",
    "    sv_params = {\n",
    "        'random_state': 42\n",
    "    }\n",
    "\n",
    "    svc = SVC(**sv_params)\n",
    "    svc.fit(x_train, y_train)\n",
    "\n",
    "    # Predict\n",
    "    y_pred_svc = svc.predict(x_test)\n",
    "\n",
    "    svc_acc = accuracy_score(y_test, y_pred_svc)\n",
    "    print(f'\\n\\nAccuracy score: {svc_acc}')\n",
    "\n",
    "    recall_svc = recall_score(y_test, y_pred_svc)\n",
    "    print(f'Recall score: {recall_svc}')\n",
    "\n",
    "    svc_r2 = r2_score(y_test, y_pred_svc)\n",
    "    print(f'R2 score: {svc_r2}')\n",
    "\n",
    "    mlflow.log_params(sv_params)\n",
    "\n",
    "    sv_metrics = {'accuracy': svc_acc, 'recall': recall_svc, 'r2': svc_r2}\n",
    "    mlflow.log_metrics(sv_metrics)\n",
    "\n",
    "    svc_cm = confusion_matrix(y_test, y_pred_svc)\n",
    "    print(f'Confusion matrix:\\n{svc_cm}')\n",
    "\n",
    "    mlflow.sklearn.log_model(\n",
    "        sk_model=svc, input_example=x_test.head(10), artifact_path='artifacts'\n",
    "    )\n",
    "\n",
    "\n",
    "    disp = ConfusionMatrixDisplay(confusion_matrix=svc_cm)\n",
    "    disp.plot(cmap=\"Blues\", colorbar=False)\n",
    "\n",
    "    # Save the plot as an image file\n",
    "    cm_image_path = \"svc_confusion_matrix.png\"\n",
    "    plt.savefig(cm_image_path)\n",
    "    plt.show()\n",
    "\n",
    "    # Log the image file to MLflow\n",
    "    mlflow.log_artifact(cm_image_path)\n",
    "\n",
    "    # Clean up local image file if needed\n",
    "    os.remove(cm_image_path)"
   ],
   "id": "478c455a3676658c",
   "outputs": [
    {
     "name": "stdout",
     "output_type": "stream",
     "text": [
      "\n",
      "\n",
      "Accuracy score: 0.9888\n",
      "Recall score: 0.9857315112540193\n",
      "R2 score: 0.9551989677842178\n",
      "Confusion matrix:\n",
      "[[4983   41]\n",
      " [  71 4905]]\n"
     ]
    },
    {
     "name": "stderr",
     "output_type": "stream",
     "text": [
      "C:\\Users\\andre\\PycharmProjects\\mlflow\\.venv\\Lib\\site-packages\\mlflow\\types\\utils.py:452: UserWarning: Hint: Inferred schema contains integer column(s). Integer columns in Python cannot represent missing values. If your input data contains missing values at inference time, it will be encoded as floats and will cause a schema enforcement error. The best way to avoid this problem is to infer the model schema based on a realistic data sample (training dataset) that includes missing values. Alternatively, you can declare integer columns as doubles (float64) whenever these columns may have missing values. See `Handling Integers With Missing Values <https://www.mlflow.org/docs/latest/models.html#handling-integers-with-missing-values>`_ for more details.\n",
      "  warnings.warn(\n"
     ]
    },
    {
     "data": {
      "text/plain": [
       "<Figure size 640x480 with 1 Axes>"
      ],
      "image/png": "[encoded data removed]"
     },
     "metadata": {},
     "output_type": "display_data"
    }
   ],
   "execution_count": 166
  },
  {
   "metadata": {},
   "cell_type": "markdown",
   "source": "### Logistic Regression",
   "id": "20bb12516b9e2e68"
  },
  {
   "metadata": {
    "ExecuteTime": {
     "end_time": "2025-01-26T23:25:04.859583Z",
     "start_time": "2025-01-26T23:25:00.148440Z"
    }
   },
   "cell_type": "code",
   "source": [
    "# Logistic Regression\n",
    "with mlflow.start_run(run_name=generate_run_name('logistic_regression')) as run:\n",
    "    lr_params = {\n",
    "        'random_state': 42,\n",
    "        'max_iter': 1000\n",
    "    }\n",
    "\n",
    "    logistic_reg = LogisticRegression(**lr_params)\n",
    "    logistic_reg.fit(x_train, y_train)\n",
    "\n",
    "    # Predict\n",
    "    y_pred_lr = logistic_reg.predict(x_test)\n",
    "\n",
    "    lr_acc = accuracy_score(y_test, y_pred_lr)\n",
    "    print(f'\\n\\nAccuracy score: {lr_acc}')\n",
    "\n",
    "    recall_lr = recall_score(y_test, y_pred_lr)\n",
    "    print(f'Recall score: {recall_lr}')\n",
    "\n",
    "    lr_r2 = r2_score(y_test, y_pred_lr)\n",
    "    print(f'R2 score: {lr_r2}')\n",
    "\n",
    "    mlflow.log_params(lr_params)\n",
    "\n",
    "    lr_metrics = {'accuracy': lr_acc, 'recall': recall_lr, 'r2': lr_r2}\n",
    "    mlflow.log_metrics(lr_metrics)\n",
    "\n",
    "    lr_cm = confusion_matrix(y_test, y_pred_lr)\n",
    "    print(f'Confusion matrix:\\n{lr_cm}')\n",
    "\n",
    "    mlflow.sklearn.log_model(\n",
    "        sk_model=logistic_reg, input_example=x_test.head(10), artifact_path='artifacts'\n",
    "    )\n",
    "\n",
    "    disp = ConfusionMatrixDisplay(confusion_matrix=lr_cm)\n",
    "    disp.plot(cmap=\"Blues\", colorbar=False)\n",
    "\n",
    "    # Save the plot as an image file\n",
    "    cm_image_path = \"lr_confusion_matrix.png\"\n",
    "    plt.savefig(cm_image_path)\n",
    "    plt.show()\n",
    "\n",
    "    # Log the image file to MLflow\n",
    "    mlflow.log_artifact(cm_image_path)\n",
    "\n",
    "    # Clean up local image file if needed\n",
    "    os.remove(cm_image_path)\n"
   ],
   "id": "953931b245858a4b",
   "outputs": [
    {
     "name": "stdout",
     "output_type": "stream",
     "text": [
      "\n",
      "\n",
      "Accuracy score: 0.9674\n",
      "Recall score: 0.9535771704180064\n",
      "R2 score: 0.8695969955147766\n",
      "Confusion matrix:\n",
      "[[4929   95]\n",
      " [ 231 4745]]\n"
     ]
    },
    {
     "name": "stderr",
     "output_type": "stream",
     "text": [
      "C:\\Users\\andre\\PycharmProjects\\mlflow\\.venv\\Lib\\site-packages\\mlflow\\types\\utils.py:452: UserWarning: Hint: Inferred schema contains integer column(s). Integer columns in Python cannot represent missing values. If your input data contains missing values at inference time, it will be encoded as floats and will cause a schema enforcement error. The best way to avoid this problem is to infer the model schema based on a realistic data sample (training dataset) that includes missing values. Alternatively, you can declare integer columns as doubles (float64) whenever these columns may have missing values. See `Handling Integers With Missing Values <https://www.mlflow.org/docs/latest/models.html#handling-integers-with-missing-values>`_ for more details.\n",
      "  warnings.warn(\n"
     ]
    },
    {
     "data": {
      "text/plain": [
       "<Figure size 640x480 with 1 Axes>"
      ],
      "image/png": "[encoded data removed]"
     },
     "metadata": {},
     "output_type": "display_data"
    }
   ],
   "execution_count": 167
  },
  {
   "metadata": {},
   "cell_type": "markdown",
   "source": "## Grid Search (hyperparameters optimization)",
   "id": "f65f7f7551757b7f"
  },
  {
   "metadata": {},
   "cell_type": "markdown",
   "source": "### SVM Grid Search",
   "id": "61145ef08ee8d94d"
  },
  {
   "metadata": {
    "ExecuteTime": {
     "end_time": "2025-01-26T23:26:48.613441Z",
     "start_time": "2025-01-26T23:25:04.894285Z"
    }
   },
   "cell_type": "code",
   "source": [
    "svc_param_grid = {\n",
    "    'C': [0.1, 1, 10],\n",
    "    'kernel': ['linear', 'rbf'],\n",
    "    'class_weight': [None, 'balanced']\n",
    "}\n",
    "\n",
    "with mlflow.start_run(run_name=generate_run_name(\"svc_grid_search\")) as run:\n",
    "\n",
    "    # Define the model\n",
    "    svc = SVC(random_state=42)\n",
    "\n",
    "    # GridSearchCV\n",
    "    grid_search_svc = GridSearchCV(\n",
    "        estimator=svc,\n",
    "        param_grid=svc_param_grid,\n",
    "        scoring='recall',  # maximize recall\n",
    "        cv=3,\n",
    "        n_jobs=-1,\n",
    "        verbose=1,\n",
    "        refit=True\n",
    "    )\n",
    "\n",
    "    # Fit the grid search\n",
    "    grid_search_svc.fit(x_train, y_train)\n",
    "\n",
    "    # Extract best estimator and params\n",
    "    best_svc = grid_search_svc.best_estimator_\n",
    "    best_params_svc = grid_search_svc.best_params_\n",
    "\n",
    "    mlflow.log_params(best_params_svc)  # Log best hyperparams\n",
    "\n",
    "    # Predict on test\n",
    "    y_pred_svc = best_svc.predict(x_test)\n",
    "\n",
    "    # -- Metrics (Logging style updated here) --\n",
    "    svc_acc = accuracy_score(y_test, y_pred_svc)\n",
    "    print(f\"\\n\\nAccuracy score: {svc_acc}\")\n",
    "\n",
    "    recall_svc = recall_score(y_test, y_pred_svc)\n",
    "    print(f\"Recall score: {recall_svc}\")\n",
    "\n",
    "    svc_r2 = r2_score(y_test, y_pred_svc)\n",
    "    print(f\"R2 score: {svc_r2}\")\n",
    "\n",
    "    svc_metrics = {'accuracy': svc_acc, 'recall': recall_svc, 'r2': svc_r2}\n",
    "    mlflow.log_metrics(svc_metrics)\n",
    "\n",
    "    svc_cm = confusion_matrix(y_test, y_pred_svc)\n",
    "    print(f\"Confusion matrix:\\n{svc_cm}\")\n",
    "\n",
    "    # Plot confusion matrix and log as artifact\n",
    "    disp_svc = ConfusionMatrixDisplay(confusion_matrix=svc_cm)\n",
    "    disp_svc.plot(cmap=\"Blues\", colorbar=False)\n",
    "    svc_cm_image_path = \"svc_confusion_matrix.png\"\n",
    "    plt.savefig(svc_cm_image_path)\n",
    "    plt.show()\n",
    "    mlflow.log_artifact(svc_cm_image_path)\n",
    "    os.remove(svc_cm_image_path)\n",
    "\n",
    "    # Log the best model\n",
    "    mlflow.sklearn.log_model(\n",
    "        sk_model=best_svc,\n",
    "        input_example=x_test.head(10),\n",
    "        artifact_path=\"artifacts\"\n",
    "    )"
   ],
   "id": "9979526896907f94",
   "outputs": [
    {
     "name": "stdout",
     "output_type": "stream",
     "text": [
      "Fitting 3 folds for each of 12 candidates, totalling 36 fits\n",
      "\n",
      "\n",
      "Accuracy score: 0.9965\n",
      "Recall score: 0.997588424437299\n",
      "R2 score: 0.985999677432568\n",
      "Confusion matrix:\n",
      "[[5001   23]\n",
      " [  12 4964]]\n"
     ]
    },
    {
     "data": {
      "text/plain": [
       "<Figure size 640x480 with 1 Axes>"
      ],
      "image/png": "[encoded data removed]"
     },
     "metadata": {},
     "output_type": "display_data"
    },
    {
     "name": "stderr",
     "output_type": "stream",
     "text": [
      "C:\\Users\\andre\\PycharmProjects\\mlflow\\.venv\\Lib\\site-packages\\mlflow\\types\\utils.py:452: UserWarning: Hint: Inferred schema contains integer column(s). Integer columns in Python cannot represent missing values. If your input data contains missing values at inference time, it will be encoded as floats and will cause a schema enforcement error. The best way to avoid this problem is to infer the model schema based on a realistic data sample (training dataset) that includes missing values. Alternatively, you can declare integer columns as doubles (float64) whenever these columns may have missing values. See `Handling Integers With Missing Values <https://www.mlflow.org/docs/latest/models.html#handling-integers-with-missing-values>`_ for more details.\n",
      "  warnings.warn(\n"
     ]
    }
   ],
   "execution_count": 168
  },
  {
   "metadata": {},
   "cell_type": "markdown",
   "source": "### Logistic Regression Grid Search",
   "id": "eb11cca29f72fd46"
  },
  {
   "metadata": {
    "ExecuteTime": {
     "end_time": "2025-01-26T23:26:55.973672Z",
     "start_time": "2025-01-26T23:26:48.688239Z"
    }
   },
   "cell_type": "code",
   "source": [
    "lr_param_grid = {\n",
    "    'C': [0.01, 0.1, 1.0, 10],\n",
    "    'penalty': ['l2'],  # 'l1' requires solver='liblinear' or 'saga'\n",
    "    'class_weight': [None, 'balanced'],\n",
    "    'max_iter': [200, 500, 1000]\n",
    "}\n",
    "\n",
    "with mlflow.start_run(run_name=generate_run_name(\"lr_grid_search\")) as run:\n",
    "\n",
    "    logistic_reg = LogisticRegression(random_state=42)\n",
    "\n",
    "    grid_search_lr = GridSearchCV(\n",
    "        estimator=logistic_reg,\n",
    "        param_grid=lr_param_grid,\n",
    "        scoring='recall',\n",
    "        cv=3,\n",
    "        n_jobs=-1,\n",
    "        verbose=1,\n",
    "        refit=True\n",
    "    )\n",
    "\n",
    "    grid_search_lr.fit(x_train, y_train)\n",
    "\n",
    "    best_lr = grid_search_lr.best_estimator_\n",
    "    best_params_lr = grid_search_lr.best_params_\n",
    "\n",
    "    mlflow.log_params(best_params_lr)  # Log best hyperparams\n",
    "\n",
    "    # Predict on test\n",
    "    y_pred_lr = best_lr.predict(x_test)\n",
    "\n",
    "    # -- Metrics (Logging style updated here) --\n",
    "    lr_acc = accuracy_score(y_test, y_pred_lr)\n",
    "    print(f\"\\n\\nAccuracy score: {lr_acc}\")\n",
    "\n",
    "    recall_lr = recall_score(y_test, y_pred_lr)\n",
    "    print(f\"Recall score: {recall_lr}\")\n",
    "\n",
    "    lr_r2 = r2_score(y_test, y_pred_lr)\n",
    "    print(f\"R2 score: {lr_r2}\")\n",
    "\n",
    "    # Log metrics in a dictionary\n",
    "    lr_metrics = {'accuracy': lr_acc, 'recall': recall_lr, 'r2': lr_r2}\n",
    "    mlflow.log_metrics(lr_metrics)\n",
    "\n",
    "    lr_cm = confusion_matrix(y_test, y_pred_lr)\n",
    "    print(f\"Confusion matrix:\\n{lr_cm}\")\n",
    "\n",
    "    # Confusion matrix artifact\n",
    "    disp_lr = ConfusionMatrixDisplay(confusion_matrix=lr_cm)\n",
    "    disp_lr.plot(cmap=\"Blues\", colorbar=False)\n",
    "    lr_cm_image_path = \"lr_confusion_matrix.png\"\n",
    "    plt.savefig(lr_cm_image_path)\n",
    "    plt.show()\n",
    "    mlflow.log_artifact(lr_cm_image_path)\n",
    "    os.remove(lr_cm_image_path)\n",
    "\n",
    "    # Log the best model\n",
    "    mlflow.sklearn.log_model(\n",
    "        sk_model=best_lr,\n",
    "        input_example=x_test.head(10),\n",
    "        artifact_path=\"best_lr_model\"\n",
    "    )"
   ],
   "id": "6c7572907d332cf",
   "outputs": [
    {
     "name": "stdout",
     "output_type": "stream",
     "text": [
      "Fitting 3 folds for each of 24 candidates, totalling 72 fits\n",
      "\n",
      "\n",
      "Accuracy score: 0.9674\n",
      "Recall score: 0.9539790996784566\n",
      "R2 score: 0.8695969955147766\n",
      "Confusion matrix:\n",
      "[[4927   97]\n",
      " [ 229 4747]]\n"
     ]
    },
    {
     "data": {
      "text/plain": [
       "<Figure size 640x480 with 1 Axes>"
      ],
      "image/png": "[encoded data removed]"
     },
     "metadata": {},
     "output_type": "display_data"
    },
    {
     "name": "stderr",
     "output_type": "stream",
     "text": [
      "C:\\Users\\andre\\PycharmProjects\\mlflow\\.venv\\Lib\\site-packages\\mlflow\\types\\utils.py:452: UserWarning: Hint: Inferred schema contains integer column(s). Integer columns in Python cannot represent missing values. If your input data contains missing values at inference time, it will be encoded as floats and will cause a schema enforcement error. The best way to avoid this problem is to infer the model schema based on a realistic data sample (training dataset) that includes missing values. Alternatively, you can declare integer columns as doubles (float64) whenever these columns may have missing values. See `Handling Integers With Missing Values <https://www.mlflow.org/docs/latest/models.html#handling-integers-with-missing-values>`_ for more details.\n",
      "  warnings.warn(\n"
     ]
    }
   ],
   "execution_count": 169
  }
 ],
 "metadata": {
  "kernelspec": {
   "display_name": "Python 3",
   "language": "python",
   "name": "python3"
  },
  "language_info": {
   "codemirror_mode": {
    "name": "ipython",
    "version": 2
   },
   "file_extension": ".py",
   "mimetype": "text/x-python",
   "name": "python",
   "nbconvert_exporter": "python",
   "pygments_lexer": "ipython2",
   "version": "2.7.6"
  }
 },
 "nbformat": 4,
 "nbformat_minor": 5
}
